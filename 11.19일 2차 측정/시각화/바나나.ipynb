{
 "cells": [
  {
   "cell_type": "code",
   "execution_count": null,
   "id": "19b981cf",
   "metadata": {},
   "outputs": [],
   "source": [
    "import pandas as pd\n",
    "import matplotlib.pyplot as plt\n",
    "from io import StringIO\n",
    "\n",
    "# Path to your file\n",
    "file_path = \"C:\\\\Users\\\\lee\\\\Desktop\\\\센서측정\\\\11.19일 2차 측정\\\\11.19일 2차 사과 측정.txt\"\n",
    "\n",
    "# Read the lines from the file, skipping the first two and the last one\n",
    "data_str = open(file_path, 'r', encoding='utf-8').readlines()[2:-1]\n",
    "\n",
    "# Convert the list of strings to a single string\n",
    "data_combined = ''.join(data_str)\n",
    "\n",
    "# Use StringIO to read the string into a DataFrame\n",
    "data_io = StringIO(data_combined)\n",
    "df = pd.read_csv(data_io, header=None, sep=',')\n",
    "df.columns = ['Time', 'MQ-2', 'MQ-3', 'MQ-136', 'MQ-137']\n",
    "\n",
    "# Save the DataFrame\n",
    "df.to_csv('adjusted_data.csv', index=False)\n",
    "\n",
    "# Plotting\n",
    "plt.figure(figsize=(10, 6))\n",
    "plt.plot(df['Time'], df['MQ-2'], label='MQ-2', color='blue')\n",
    "plt.plot(df['Time'], df['MQ-3'], label='MQ-3', color='green')\n",
    "plt.plot(df['Time'], df['MQ-136'], label='MQ-136', color='red')\n",
    "plt.plot(df['Time'], df['MQ-137'], label='MQ-137', color='purple')\n",
    "\n",
    "plt.xlabel('Time (ms)')\n",
    "plt.ylabel('Sensor Readings')\n",
    "plt.title('MQ Gas Sensor Readings Over Time')\n",
    "plt.legend()\n",
    "plt.grid(True)\n",
    "plt.show()\n"
   ]
  }
 ],
 "metadata": {
  "kernelspec": {
   "display_name": "rear",
   "language": "python",
   "name": "rear"
  },
  "language_info": {
   "codemirror_mode": {
    "name": "ipython",
    "version": 3
   },
   "file_extension": ".py",
   "mimetype": "text/x-python",
   "name": "python",
   "nbconvert_exporter": "python",
   "pygments_lexer": "ipython3",
   "version": "3.9.13"
  }
 },
 "nbformat": 4,
 "nbformat_minor": 5
}
